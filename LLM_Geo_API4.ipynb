{
 "cells": [
  {
   "cell_type": "markdown",
   "id": "77738df5-e62c-4bf9-ba20-baffea46e951",
   "metadata": {},
   "source": [
    "This notebook shows how to use LLM-Geo, you can uncomment a study case (preferred Case 1 and Case 3) to get the spatial analysis results without any human intervention. \n",
    "\n",
    "Please check the [webpage of LLM-Geo](https://github.com/gladcolor/LLM-Geo) for more detail!\n"
   ]
  },
  {
   "cell_type": "markdown",
   "id": "bf676855-2221-47c7-8dff-b185e03c3953",
   "metadata": {
    "tags": []
   },
   "source": [
    "#  Install package\n",
    "\n",
    "Make sure you are using the latest version of `openai` and `geopandas`."
   ]
  },
  {
   "cell_type": "code",
   "execution_count": 1,
   "id": "05156c09-3ec8-47d7-a629-f9374440658a",
   "metadata": {
    "tags": []
   },
   "outputs": [],
   "source": [
    "# ! pip install pyvis\n",
    "# ! pip install networkx\n",
    "# ! pip install openai\n",
    "# ! conda update  --channel conda-forge geopandas  \n"
   ]
  },
  {
   "cell_type": "markdown",
   "id": "b254e9bd-675a-4644-abfd-d642183da809",
   "metadata": {
    "tags": []
   },
   "source": [
    "# Import package"
   ]
  },
  {
   "cell_type": "code",
   "execution_count": 1,
   "id": "392efdfe-e33d-43fb-b8ea-6b6fb444ad9d",
   "metadata": {
    "tags": []
   },
   "outputs": [],
   "source": [
    "import os\n",
    "import sys\n",
    "import requests\n",
    "import networkx as nx\n",
    "import pandas as pd\n",
    "import geopandas as gpd\n",
    "import rasterio\n",
    "from pyvis.network import Network\n",
    "from openai import OpenAI\n",
    "from IPython.display import display, HTML, Code\n",
    "from IPython.display import clear_output"
   ]
  },
  {
   "cell_type": "code",
   "execution_count": null,
   "id": "50af1ec7-cb9c-4c47-83f1-92084621eba4",
   "metadata": {},
   "outputs": [],
   "source": []
  },
  {
   "cell_type": "markdown",
   "id": "d0e43a82-d40f-4442-93fb-525486017ca1",
   "metadata": {
    "tags": []
   },
   "source": [
    "# Define Solution class\n",
    "Please run the following cell to define the functions"
   ]
  },
  {
   "cell_type": "code",
   "execution_count": 2,
   "id": "236eff8d-4f24-4e90-af5f-4847bf2e7112",
   "metadata": {
    "tags": []
   },
   "outputs": [],
   "source": [
    "%load_ext autoreload\n",
    "%autoreload 2\n",
    "\n",
    "import LLM_Geo_Constants as constants\n",
    "import helper\n",
    "\n",
    "from LLM_Geo_kernel import Solution\n",
    "\n",
    "sys.path.append(os.path.abspath(\"Modules\"))    \n",
    "import Modules.data_eye as data_eye"
   ]
  },
  {
   "cell_type": "markdown",
   "id": "9a3e84cf-00f5-40ef-a7ff-5ae186a4e164",
   "metadata": {},
   "source": [
    "# Demonstration Cases"
   ]
  },
  {
   "cell_type": "markdown",
   "id": "9a545a6b-1456-40b8-a913-b4dfd305c071",
   "metadata": {
    "tags": []
   },
   "source": [
    "## Input task and data desciption"
   ]
  },
  {
   "cell_type": "code",
   "execution_count": 3,
   "id": "dd66b2f3-80d7-40bb-9fd0-807a3f70e2ac",
   "metadata": {},
   "outputs": [],
   "source": [
    "isReview = True"
   ]
  },
  {
   "cell_type": "code",
   "execution_count": 4,
   "id": "8ba05f98-30b2-46d0-9eb2-624f5dbc2754",
   "metadata": {
    "scrolled": true,
    "tags": []
   },
   "outputs": [],
   "source": [
    "\n",
    "# Case 1: population living near hazardous wastes\n",
    "\n",
    "# task_name ='Resident_at_risk_counting'\n",
    "# TASK = r\"\"\"1) Find out Census tracts that contain hazardous waste facilities, then comppute and print out the population living in those tracts. The study area is North Carolina (NC), US.\n",
    "# 2) Generate a population choropleth map for all tract polygons in NC, rendering the color by tract population; and then highlight the borders of tracts that have hazardous waste facilities. Please draw all polygons, not only the highlighted ones. The map size is 15*10 inches.\n",
    "# \"\"\"\n",
    "\n",
    "# data location with column information\n",
    "# DATA_LOCATIONS = [\"NC hazardous waste facility ESRI shape file: https://github.com/gladcolor/LLM-Geo/raw/master/overlay_analysis/HW_Sites_EPSG4326.zip.\",\n",
    "#                   \"NC tract boundary shapefile: https://github.com/gladcolor/LLM-Geo/raw/master/overlay_analysis/tract_37_EPSG4326.zip. The tract ID column is 'GEOID', data types is integer.\",\n",
    "#                   \"NC tract population CSV file: https://github.com/gladcolor/LLM-Geo/raw/master/overlay_analysis/NC_tract_population.csv. The population is stored in 'TotalPopulation' column. The tract ID column is 'GEOID', data types is integer.\"\n",
    "#                  ]\n",
    "\n",
    "# data location without column information\n",
    "# DATA_LOCATIONS = [\"NC hazardous waste facility ESRI shape file: https://github.com/gladcolor/LLM-Geo/raw/master/overlay_analysis/HW_Sites_EPSG4326.zip.\",\n",
    "#                   \"NC tract boundary shapefile: https://github.com/gladcolor/LLM-Geo/raw/master/overlay_analysis/tract_37_EPSG4326.zip.\",\n",
    "#                   \"NC tract population CSV file: https://github.com/gladcolor/LLM-Geo/raw/master/overlay_analysis/NC_tract_population.csv.\"\n",
    "#                  ]\n",
    " \n",
    "\n",
    "# # Case 3: COVID-19 death rate in US\n",
    "# task_name ='COVID_death_rate'\n",
    "# TASK = r'''1) Draw a choropleth map to show the death rate (death/case) of COVID-19 among the countiguous US counties. Use the accumulated COVID-19 data of 2020.12.31 to compute the death rate. Use scheme ='quantiles' when plotting the map.  Set map projection to 'Conus Albers'. Set map size to 15*10 inches.  \n",
    "# 2) Draw a scatter plot to show the correlation and trend line of the death rate with the senior resident rate, including the r-square and p-value. Set data point transparency to 50%, regression line as red. Set figure size to 15*10 inches.  \n",
    "# '''\n",
    "\n",
    "# data location with column information\n",
    "# DATA_LOCATIONS = [\n",
    "#                   r\"COVID-19 data case in 2020 (county-level): https://github.com/nytimes/covid-19-data/raw/master/us-counties-2020.csv. This data is for daily accumulated COVID cases and deaths for each county in the US. There are 5 columns: date (format: 2021-02-01), county, state, fips, cases, deaths. \",   \n",
    "#                   r\"Contiguous US county boundary (ESRI shapefile): https://github.com/gladcolor/spatial_data/raw/master/contiguous_counties.zip. The county FIPS column is 'GEOID'; map projection is EPSG:4269\",\n",
    "#                   r\"Census data (ACS2020): https://raw.githubusercontent.com/gladcolor/spatial_data/master/Demography/ACS2020_5year_county.csv. THe needed columns are: 'FIPS', 'Total Population', 'Total Population: 65 to 74 Years', 'Total Population: 75 to 84 Years', 'Total Population: 85 Years and Over'. Drop rows with NaN cells after loading the used columns.\",\n",
    "#                  ]\n",
    "\n",
    "# data location without column information\n",
    "# DATA_LOCATIONS = [\n",
    "#                   r\"COVID-19 data case in 2020 (county-level): https://github.com/nytimes/covid-19-data/raw/master/us-counties-2020.csv. This data is for daily accumulated COVID cases and deaths for each county in the US. \",   \n",
    "#                   r\"Contiguous US county boundary (ESRI shapefile): https://github.com/gladcolor/spatial_data/raw/master/contiguous_counties.zip.\",\n",
    "#                   r\"Census data (ACS2020): https://raw.githubusercontent.com/gladcolor/spatial_data/master/Demography/ACS2020_5year_county.csv. \"\n",
    "#                  ]\n",
    "\n",
    "# # Case 4: Hospital_accessibility\n",
    "# task_name ='Hospital_accessibility'\n",
    "# TASK = r'''\n",
    "# For each zipcode area in South Carolina (SC), calculate the distance from the centroid of the zipcode area to its nearest hospital, and then create a choropleth distance map of zipcode area polygons (unit: km), also show the hospital.\n",
    "# '''\n",
    "\n",
    "## data location with column information\n",
    "# DATA_LOCATIONS = [\n",
    "# r\"SC zipcode boundary shapefile: https://github.com/GIBDUSC/test/raw/master/sc_zip_boundary.zip, the map projection is WGS1984.\",\n",
    "# r\"SC hospitals:  https://github.com/gladcolor/spatial_data/raw/master/South_Carolina/SC_hospitals_with_emergency_room_cleaned.csv, location columns: longitude in 'Longitude' column, latitude in 'Latitude' column.\",          \n",
    "# ]\n",
    "\n",
    "# data location without column information\n",
    "# DATA_LOCATIONS = [\n",
    "# r\"SC zipcode boundary shapefile: https://github.com/GIBDUSC/test/raw/master/sc_zip_boundary.zip.\",\n",
    "# r\"SC hospitals:  https://github.com/gladcolor/spatial_data/raw/master/South_Carolina/SC_hospitals_with_emergency_room_cleaned.csv.\",          \n",
    "# ]\n",
    "\n",
    "# # Case 5: school walkability\n",
    "task_name ='School walkability'\n",
    "TASK = r'''You need to compute the walkability scores for all schools in the Colubmia city. The steps are:\n",
    "1) extract the road network near a school within 1 km buffer zone.\n",
    "2) extract the sidewalks within 20 meters to the extracted road network in the step 1.\n",
    "3) the school walkability scores is the ratio of the extracted sidewalk length to the extracted road network length.\n",
    "4) Please draw a map for each school, using the school name and the walkability score as the map title, while showing the extracted sidewalks on a OpenStreetMap basemap.\n",
    "'''\n",
    "\n",
    "# data location with column information\n",
    "DATA_LOCATIONS = [\n",
    "r\"Columbia school points: https://github.com/gladcolor/spatial_data/raw/refs/heads/master/South_Carolina/Columbia_schools.gpkg.\",\n",
    "r\"Columbia road network (polyline): https://github.com/gladcolor/spatial_data/raw/refs/heads/master/South_Carolina/Columbia_road.gpkg.\",          \n",
    "r\"Columbia sidewalk network (polyline): https://github.com/gladcolor/spatial_data/raw/refs/heads/master/South_Carolina/Columbia_sidewalks.gpkg.\"    \n",
    "]\n",
    "\n",
    "\n",
    "# # Case 2: France_mobility_changes_2020  (NOTE: invalidated due to API shutdown)\n",
    "# task_name ='France_mobility_changes_2020'\n",
    "# TASK = r'''\n",
    "# 1) Show the 2020 human mobility monthly change rates of each administrative regions in a France choropleth map. Each month is a sub-map in a map matrix，12 months in total. All monthly maps need to use the same colorbar range (color scheme: coolwarm). The base of the change rate is January 2020. \n",
    "# 2) Draw a line chart to show the monthly change rate trends of all administrative regeions. Each region is a line (the region name is the legend), the x-axis is 2020 months.\n",
    "# '''\n",
    "\n",
    "# DATA_LOCATIONS = [\"ESRI shapefile for France administrative regions:\" + \\\n",
    "#                   \"https://github.com/gladcolor/LLM-Geo/raw/master/REST_API/France.zip. \" + \\\n",
    "#                   \"The 'GID_1' column is the administrative region code, 'NAME_1' column is the administrative region name.\",\n",
    "#                   \"REST API url with parameters for daily human mobility data access:\" + \\\n",
    "#                   \"http://gis.cas.sc.edu/GeoAnalytics/REST?operation=get_daily_movement_for_all_places&source=twitter&scale=world_first_level_admin&begin=01/01/2020&end=12/31/2020.\" + \\\n",
    "#                   \"The response is in CSV format. There are three columns in the response: \" + \\\n",
    "#                   \"place,date (format:2020-01-07), and intra_movement. 'place' column is the administractive region code of every country;\" + \\\n",
    "#                   \"codes for France administrative regions start with 'FRA'. Use the total intra_movement of the month as the montly mobility.\",\n",
    "#                  ]\n",
    "\n",
    "\n",
    "save_dir = os.path.join(os.getcwd(), task_name)\n",
    "os.makedirs(save_dir, exist_ok=True)\n",
    "\n",
    "# create graph\n",
    "# model = r'gpt-4o'\n",
    "model = r'gpt-4o-2024-08-06'\n"
   ]
  },
  {
   "cell_type": "code",
   "execution_count": null,
   "id": "4f29313d-aad3-42ac-bfea-e7dd08900f3e",
   "metadata": {},
   "outputs": [],
   "source": [
    "file_path = r'https://github.com/gladcolor/spatial_data/raw/refs/heads/master/Everest_DEM.tif'\n",
    "file_path = r'https://github.com/gladcolor/spatial_data/raw/refs/heads/master/Everest_DOM.tif'\n",
    "file_path = r\"D:\\OneDrive_PSU\\OneDrive - The Pennsylvania State University\\Research_doc\\LLM_Geo\\QGIS_plugin\\sentinel2.tif\"\n",
    "file_path = r\"C:\\Users\\A\\Downloads\\Sentinel_downloaded\\L1C_T31TBF_A043377_20231012T105229_2023-10-12\\L1C_T31TBF_A043377_20231012T105229_B09.jp2\""
   ]
  },
  {
   "cell_type": "markdown",
   "id": "3c1af76a-4fb7-42fe-a9a7-99c345806084",
   "metadata": {},
   "source": [
    "## Get data overview (column names, data types, and map projection)"
   ]
  },
  {
   "cell_type": "code",
   "execution_count": 9,
   "id": "c8ef3a76-13f2-4874-9b47-2cf549d9b0ba",
   "metadata": {},
   "outputs": [
    {
     "name": "stdout",
     "output_type": "stream",
     "text": [
      "mission_prefix: You will be provided with brief geospatial data description and locations for a spatial analysis task.\n",
      "You need to extract the data path, URL, API, an format from a task and data description. Every given data should be included, and keep the original order.\n",
      "Below are the description of your reply parameters:\n",
      "- location: the disk path, URL, or API to access the data. Such as r\"C:\\test.zip\".\n",
      "- format: the format of data, which belongs one of ['CSV', 'Parquet', 'TXT', 'ESRI shapefile', 'GeoPackage', 'KML', 'Tiff', 'JPEG', 'PNG', 'ERDAS IMG', 'JP2', 'HDF5HDF'].\n",
      "\n",
      "DATA_LOCATIONS with data overviews:\n",
      "[\"Columbia school points: https://github.com/gladcolor/spatial_data/raw/refs/heads/master/South_Carolina/Columbia_schools.gpkg.Columbia school points: https://github.com/gladcolor/spatial_data/raw/refs/heads/master/South_Carolina/Columbia_schools.gpkg. Data overview: {'column names and data types': 'column names, data types, and sample values (column_name: data_type, sample value |):[amenity: object, school| ele: object, 55| gnis:feature_id: object, 1221699| name: object, Columbia-Vocational School| id: int64, 357082586| type: object, node| wikidata: object, None| operator: object, None| addr:city: object, None| addr:country: object, None| addr:housenumber: object, None| addr:postcode: object, None| addr:state: object, None| addr:street: object, None| contact:facebook: object, None| contact:twitter: object, None| contact:youtube: object, None| fax: object, None| grades: object, None| isced:level: object, None| operator:type: object, None| operator:wikidata: object, None| operator:wikipedia: object, None| phone: object, None| website: object, None| building: object, None]', 'Coordinate reference system': 'EPSG:4326'}\", 'Columbia road network (polyline): https://github.com/gladcolor/spatial_data/raw/refs/heads/master/South_Carolina/Columbia_road.gpkg.Columbia road network (polyline): https://github.com/gladcolor/spatial_data/raw/refs/heads/master/South_Carolina/Columbia_road.gpkg. Data overview: {\\'column names and data types\\': \"column names, data types, and sample values (column_name: data_type, sample value |):[type: object, way| id: object, 694396323| bounds: object, {\\'minlat\\': 33.9930911, \\'minlon\\': -81.0299625, \\'maxlat\\': 33.9931945, \\'maxlon\\': -81.029916}| nodes: object, 6519750311, 6519750310| tags: object, {\\'highway\\': \\'tertiary\\', \\'lanes\\': \\'4\\', \\'maxspeed\\': \\'35 mph\\', \\'name\\': \\'Main Street\\', \\'oneway\\': \\'no\\', \\'tiger:cfcc\\': \\'A41\\', \\'tiger:county\\': \\'Richland, SC\\', \\'tiger:name_base\\': \\'Main\\', \\'tiger:name_type\\': \\'St\\', \\'tiger:reviewed\\': \\'no\\', \\'tiger:zip_left\\': \\'29201\\', \\'tiger:zip_right\\': \\'29225\\'}]\", \\'Coordinate reference system\\': \\'EPSG:4326\\'}', 'Columbia sidewalk network (polyline): https://github.com/gladcolor/spatial_data/raw/refs/heads/master/South_Carolina/Columbia_sidewalks.gpkg.Columbia sidewalk network (polyline): https://github.com/gladcolor/spatial_data/raw/refs/heads/master/South_Carolina/Columbia_sidewalks.gpkg. Data overview: {\\'column names and data types\\': \"column names, data types, and sample values (column_name: data_type, sample value |):[type: object, way| id: object, 661456992| bounds: object, {\\'minlat\\': 34.0012136, \\'minlon\\': -81.0154559, \\'maxlat\\': 34.0024744, \\'maxlon\\': -81.0140477}| nodes: object, 6192520470, 6192520464, 6192520465, 6192520466, 6192520467, 6192520468, 6192520469| tags: object, {\\'footway\\': \\'sidewalk\\', \\'highway\\': \\'footway\\'}]\", \\'Coordinate reference system\\': \\'EPSG:4326\\'}']\n"
     ]
    }
   ],
   "source": [
    "attributes_json, DATA_LOCATIONS = data_eye.add_data_overview_to_data_location(task=TASK, data_location_list=DATA_LOCATIONS, model=model)\n",
    "print(\"DATA_LOCATIONS with data overviews:\")\n",
    "print(DATA_LOCATIONS)"
   ]
  },
  {
   "cell_type": "code",
   "execution_count": null,
   "id": "bae1f0af-5ee3-4e92-8283-fedc594dff42",
   "metadata": {},
   "outputs": [],
   "source": []
  },
  {
   "cell_type": "code",
   "execution_count": null,
   "id": "ef2bf945-5de9-4512-b9bb-89d4082b1cab",
   "metadata": {},
   "outputs": [],
   "source": [
    "solution = Solution(\n",
    "                    task=TASK,\n",
    "                    task_name=task_name,\n",
    "                    save_dir=save_dir,\n",
    "                    data_locations=DATA_LOCATIONS,\n",
    "                    model=model,\n",
    "                    )\n",
    "print(\"Prompt to get solution graph:\\n\")\n",
    "print(solution.graph_prompt)"
   ]
  },
  {
   "cell_type": "markdown",
   "id": "3009da7e-afe7-48da-a0c0-62d5a10026fb",
   "metadata": {
    "tags": []
   },
   "source": [
    "## Get graph code from GPT API"
   ]
  },
  {
   "cell_type": "code",
   "execution_count": null,
   "id": "213b17ca-9e3e-4c23-a852-c4a7edc83448",
   "metadata": {
    "tags": []
   },
   "outputs": [],
   "source": [
    "response_for_graph = solution.get_LLM_response_for_graph() \n",
    "solution.graph_response = response_for_graph\n",
    "solution.save_solution()\n",
    "\n",
    "clear_output(wait=True)\n",
    "display(Code(solution.code_for_graph, language='python'))"
   ]
  },
  {
   "cell_type": "markdown",
   "id": "112017eb-8bcb-4d44-88d5-7099f22bf107",
   "metadata": {
    "tags": []
   },
   "source": [
    "## Execute code to generate the solution graph"
   ]
  },
  {
   "cell_type": "code",
   "execution_count": null,
   "id": "d1695d40-b164-4d8b-8381-957ce260a5e6",
   "metadata": {
    "tags": []
   },
   "outputs": [],
   "source": [
    "exec(solution.code_for_graph)\n",
    "solution_graph = solution.load_graph_file()\n",
    "\n",
    "# Show the graph\n",
    "G = nx.read_graphml(solution.graph_file)  \n",
    "nt = helper.show_graph(G)\n",
    "html_name = os.path.join(os.getcwd(), solution.task_name + '.html')  \n",
    "# HTML file should in the same directory. See:\n",
    "# https://stackoverflow.com/questions/65564916/error-displaying-pyvis-html-inside-jupyter-lab-cell\n",
    "nt.show(name=html_name)\n",
    "# html_name"
   ]
  },
  {
   "cell_type": "markdown",
   "id": "791f8311-1874-4b23-957c-793cfd74a9cc",
   "metadata": {
    "tags": []
   },
   "source": [
    "## Generate prompts and code for operations (functions)"
   ]
  },
  {
   "cell_type": "code",
   "execution_count": null,
   "id": "b4459452-8156-476d-8d20-1fccf3fdaa48",
   "metadata": {
    "tags": []
   },
   "outputs": [],
   "source": [
    "operations = solution.get_LLM_responses_for_operations(review=isReview)\n",
    "solution.save_solution()\n",
    "\n",
    "all_operation_code_str = '\\n'.join([operation['operation_code'] for operation in operations])\n",
    "\n",
    "clear_output(wait=True)\n",
    "display(Code(all_operation_code_str, language='python'))"
   ]
  },
  {
   "cell_type": "markdown",
   "id": "ae21f735-29f4-4934-8a7e-00616447cd40",
   "metadata": {
    "tags": []
   },
   "source": [
    "## Generate prompts and code for assembly program"
   ]
  },
  {
   "cell_type": "code",
   "execution_count": null,
   "id": "34ac055d-11b8-4b3e-890c-83501611355f",
   "metadata": {
    "tags": []
   },
   "outputs": [],
   "source": [
    "assembly_LLM_response = solution.get_LLM_assembly_response(review=isReview)\n",
    "solution.assembly_LLM_response = assembly_LLM_response\n",
    "solution.save_solution()\n",
    "\n",
    "clear_output(wait=True)\n",
    "display(Code(solution.code_for_assembly, language='python'))"
   ]
  },
  {
   "cell_type": "markdown",
   "id": "bca67352-6508-4fe6-be4b-1f4649224148",
   "metadata": {
    "tags": []
   },
   "source": [
    "## Execute assembly code"
   ]
  },
  {
   "cell_type": "code",
   "execution_count": null,
   "id": "583d7c6a-8d5a-4bca-b22e-fcb3f3d5c201",
   "metadata": {
    "tags": []
   },
   "outputs": [],
   "source": [
    "all_code = all_operation_code_str + '\\n' + solution.code_for_assembly\n",
    "\n",
    "# display(Code(all_code, language='python'))\n",
    "\n",
    "all_code = solution.execute_complete_program(code=all_code, try_cnt=10)"
   ]
  },
  {
   "cell_type": "code",
   "execution_count": null,
   "id": "98cb4d68-fd2e-4c46-ad04-4de208431fc7",
   "metadata": {},
   "outputs": [],
   "source": []
  },
  {
   "cell_type": "code",
   "execution_count": null,
   "id": "f4326aaf-6438-41ad-9ca0-ac393663d4dd",
   "metadata": {},
   "outputs": [],
   "source": []
  },
  {
   "cell_type": "code",
   "execution_count": null,
   "id": "c9b06372-be33-4338-92ce-1450559993cb",
   "metadata": {},
   "outputs": [],
   "source": []
  }
 ],
 "metadata": {
  "kernelspec": {
   "display_name": "llm_geo",
   "language": "python",
   "name": "llm_geo"
  },
  "language_info": {
   "codemirror_mode": {
    "name": "ipython",
    "version": 3
   },
   "file_extension": ".py",
   "mimetype": "text/x-python",
   "name": "python",
   "nbconvert_exporter": "python",
   "pygments_lexer": "ipython3",
   "version": "3.12.5"
  }
 },
 "nbformat": 4,
 "nbformat_minor": 5
}
